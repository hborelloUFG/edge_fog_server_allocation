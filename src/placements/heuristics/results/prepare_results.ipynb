{
 "cells": [
  {
   "cell_type": "code",
   "execution_count": 1,
   "metadata": {},
   "outputs": [],
   "source": [
    "import pandas as pd"
   ]
  },
  {
   "cell_type": "code",
   "execution_count": 29,
   "metadata": {},
   "outputs": [],
   "source": [
    "topology = 'germany'\n",
    "model = 'm1'\n",
    "\n",
    "df = pd.read_csv(topology+'/'+model+'_linear_exp_'+topology+'.csv', header=None)\n",
    "\n"
   ]
  },
  {
   "cell_type": "code",
   "execution_count": 32,
   "metadata": {},
   "outputs": [],
   "source": [
    "import ast\n",
    "\n",
    "def get_data(data):\n",
    "    # The provided data string\n",
    "    # data_string = \"([[13, 814], [35, 886], [47, 538], [13, 279], [35, 356], [35, 781]], ['0.01756692'])\"\n",
    "\n",
    "    # Use ast.literal_eval to safely evaluate the string\n",
    "    data = ast.literal_eval(data)\n",
    "\n",
    "    # Extract the components\n",
    "    list_of_lists = data[0]\n",
    "    list_of_strings = data[1]\n",
    "\n",
    "    # Print the results to verify\n",
    "    return list_of_lists, list_of_strings"
   ]
  },
  {
   "cell_type": "code",
   "execution_count": 38,
   "metadata": {},
   "outputs": [
    {
     "name": "stdout",
     "output_type": "stream",
     "text": [
      "{'App0': ['0.01756692'], 'App1': ['0.01756692'], 'App2': ['0.01756692'], 'App3': ['0.01756692'], 'App4': ['0.01756692'], 'App5': ['0.01756692'], 'App6': ['0.01756692'], 'App7': ['0.01756692'], 'App8': ['0.01756692'], 'App9': ['0.01756692'], 'App10': ['0.01756692'], 'App11': ['0.01756692'], 'App12': ['0.01756692'], 'App13': ['0.01756692'], 'App14': ['0.01756692'], 'App15': ['0.01756692'], 'App16': ['0.01756692'], 'App17': ['0.01756692'], 'App18': ['0.01756692'], 'App19': ['0.01756692']}\n"
     ]
    }
   ],
   "source": [
    "# for each df\n",
    "dict_placement = dict()\n",
    "for i in range(len(df)):\n",
    "    # print(df.iloc[i][0])\n",
    "    list_of_lists, list_of_strings= get_data(df.iloc[i][0])\n",
    "\n",
    "    # print(\"List of Lists:\", list_of_lists)\n",
    "    # print(\"List of Strings:\", list_of_strings)\n",
    "\n",
    "    dict_placement[df.iloc[i][0]] = list_of_strings\n",
    "\n",
    "\n",
    "dict_sorted = dict()\n",
    "\n",
    "# print order by key\n",
    "for i in range(0, 20):\n",
    "    app = 'App' + str(i)\n",
    "    # print(\"%s: %s\" % (key, dict_placement[key]))\n",
    "    dict_sorted[app] = dict_placement[app]\n",
    "print(dict_sorted)"
   ]
  },
  {
   "cell_type": "code",
   "execution_count": null,
   "metadata": {},
   "outputs": [],
   "source": []
  }
 ],
 "metadata": {
  "kernelspec": {
   "display_name": "base",
   "language": "python",
   "name": "python3"
  },
  "language_info": {
   "codemirror_mode": {
    "name": "ipython",
    "version": 3
   },
   "file_extension": ".py",
   "mimetype": "text/x-python",
   "name": "python",
   "nbconvert_exporter": "python",
   "pygments_lexer": "ipython3",
   "version": "3.11.4"
  }
 },
 "nbformat": 4,
 "nbformat_minor": 2
}
